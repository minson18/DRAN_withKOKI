{
 "cells": [
  {
   "cell_type": "code",
   "execution_count": 1,
   "metadata": {},
   "outputs": [],
   "source": [
    "from env import Dran_KOKI_Multiply, Dran_KOKI_Increase\n",
    "import numpy as np"
   ]
  },
  {
   "cell_type": "code",
   "execution_count": 65,
   "metadata": {},
   "outputs": [],
   "source": [
    "env_1 = Dran_KOKI_Multiply(movements_per_day=1, ko_boundary=1000, ki_boundary=-1000)\n",
    "env_10 = Dran_KOKI_Multiply(movements_per_day=100, ko_boundary=1000, ki_boundary=-1000)"
   ]
  },
  {
   "cell_type": "code",
   "execution_count": 68,
   "metadata": {},
   "outputs": [
    {
     "data": {
      "text/plain": [
       "0.04848000000000001"
      ]
     },
     "execution_count": 68,
     "metadata": {},
     "output_type": "execute_result"
    }
   ],
   "source": [
    "total_returns = []\n",
    "price_arrays = []\n",
    "for i in range(1000):\n",
    "    env_1.reset()\n",
    "    total_return, price_array = env_1.run()\n",
    "    total_returns.append(total_return)\n",
    "    price_arrays.append(price_array)\n",
    "np.mean(total_returns)"
   ]
  },
  {
   "cell_type": "code",
   "execution_count": 64,
   "metadata": {},
   "outputs": [
    {
     "data": {
      "text/plain": [
       "0.04126000000000001"
      ]
     },
     "execution_count": 64,
     "metadata": {},
     "output_type": "execute_result"
    }
   ],
   "source": [
    "total_returns = []\n",
    "price_arrays = []\n",
    "for i in range(1000):\n",
    "    env_10.reset()\n",
    "    total_return, price_array = env_10.run()\n",
    "    total_returns.append(total_return)\n",
    "    price_arrays.append(price_array)\n",
    "np.mean(total_returns)"
   ]
  },
  {
   "cell_type": "code",
   "execution_count": 5,
   "metadata": {},
   "outputs": [],
   "source": [
    "import random"
   ]
  },
  {
   "cell_type": "code",
   "execution_count": 55,
   "metadata": {},
   "outputs": [
    {
     "data": {
      "text/plain": [
       "0"
      ]
     },
     "execution_count": 55,
     "metadata": {},
     "output_type": "execute_result"
    }
   ],
   "source": [
    "random.choice((0,1))"
   ]
  },
  {
   "cell_type": "code",
   "execution_count": 9,
   "metadata": {},
   "outputs": [
    {
     "data": {
      "text/plain": [
       "array([0.1, 0.1, 1. , 1. , 0.1, 0.1, 0.1, 1. , 0.1, 1. ])"
      ]
     },
     "execution_count": 9,
     "metadata": {},
     "output_type": "execute_result"
    }
   ],
   "source": [
    "multiplier_mean_per_step = (1, 0.1)\n",
    "np.random.choice(multiplier_mean_per_step, 10)"
   ]
  }
 ],
 "metadata": {
  "kernelspec": {
   "display_name": "finrl_env",
   "language": "python",
   "name": "python3"
  },
  "language_info": {
   "codemirror_mode": {
    "name": "ipython",
    "version": 3
   },
   "file_extension": ".py",
   "mimetype": "text/x-python",
   "name": "python",
   "nbconvert_exporter": "python",
   "pygments_lexer": "ipython3",
   "version": "3.10.13"
  }
 },
 "nbformat": 4,
 "nbformat_minor": 2
}
